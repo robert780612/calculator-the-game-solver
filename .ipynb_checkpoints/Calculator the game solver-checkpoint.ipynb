{
 "cells": [
  {
   "cell_type": "code",
   "execution_count": 19,
   "metadata": {},
   "outputs": [],
   "source": [
    "import itertools\n",
    "import re"
   ]
  },
  {
   "cell_type": "code",
   "execution_count": 26,
   "metadata": {},
   "outputs": [],
   "source": [
    "def is_arthemetic(op):\n",
    "    result = re.match('[+\\-*/]-?\\d+', op)\n",
    "    return (result is not None)"
   ]
  },
  {
   "cell_type": "code",
   "execution_count": 28,
   "metadata": {},
   "outputs": [],
   "source": [
    "assert is_arthemetic('+4') is True\n",
    "assert is_arthemetic('-0') is True\n",
    "assert is_arthemetic('*342342') is True\n",
    "assert is_arthemetic('*-3') is True\n",
    "assert is_arthemetic('3') is False\n",
    "assert is_arthemetic('*') is False"
   ]
  },
  {
   "cell_type": "code",
   "execution_count": 42,
   "metadata": {},
   "outputs": [],
   "source": [
    "def arthemetic(value, op):\n",
    "    if op[0]=='+':\n",
    "        value += float(op[1:])\n",
    "    elif op[0]=='-':\n",
    "        value -= float(op[1:])\n",
    "    elif op[0]=='*':\n",
    "        value *= float(op[1:])\n",
    "    elif op[0]=='/':\n",
    "        value /= float(op[1:])\n",
    "    return value "
   ]
  },
  {
   "cell_type": "code",
   "execution_count": 47,
   "metadata": {},
   "outputs": [],
   "source": [
    "assert arthemetic(3, '+6')==9\n",
    "assert arthemetic(3, '+15')==18\n",
    "assert arthemetic(-3, '-6')==-9\n",
    "assert arthemetic(-3, '*-6')==18\n",
    "assert arthemetic(-3, '/-6')==0.5\n",
    "assert arthemetic(9, '/-3')==-3"
   ]
  },
  {
   "cell_type": "code",
   "execution_count": 31,
   "metadata": {},
   "outputs": [],
   "source": [
    "def is_insert(op):\n",
    "    result = re.match('^\\d+$', op)\n",
    "    return (result is not None)"
   ]
  },
  {
   "cell_type": "code",
   "execution_count": 38,
   "metadata": {},
   "outputs": [],
   "source": [
    "assert is_insert('40') is True\n",
    "assert is_insert('3423423') is True\n",
    "assert is_insert('34234/') is False\n",
    "assert is_insert('/d') is False\n",
    "assert is_insert('3') is True\n",
    "assert is_insert('-3') is False\n",
    "assert is_insert('0') is True\n",
    "assert is_insert('00000') is True\n",
    "assert is_insert('*2') is False\n",
    "assert is_insert('4*2') is False"
   ]
  },
  {
   "cell_type": "code",
   "execution_count": 133,
   "metadata": {},
   "outputs": [],
   "source": [
    "def insert(value, op):\n",
    "    return float(str(int(value))+op)"
   ]
  },
  {
   "cell_type": "code",
   "execution_count": 142,
   "metadata": {},
   "outputs": [],
   "source": [
    "assert insert(30.0, '5')==305\n",
    "assert insert(30.0, '2225')==302225\n",
    "assert insert(-4.0, '33')==-433"
   ]
  },
  {
   "cell_type": "code",
   "execution_count": 143,
   "metadata": {},
   "outputs": [],
   "source": [
    "def reverse(value):\n",
    "    if value>=0:\n",
    "        value = float(str(int(value))[::-1])\n",
    "    else:\n",
    "        p = str(int(abs(value)))\n",
    "        value = -float(p[::-1])\n",
    "    return value"
   ]
  },
  {
   "cell_type": "code",
   "execution_count": 144,
   "metadata": {},
   "outputs": [],
   "source": [
    "assert reverse(3.0)==3\n",
    "assert reverse(-3.0)==-3\n",
    "assert reverse(334.0)==433\n",
    "assert reverse(-824.0)==-428"
   ]
  },
  {
   "cell_type": "code",
   "execution_count": 145,
   "metadata": {},
   "outputs": [],
   "source": [
    "def find_value(value, ops, verbose=0):\n",
    "    for op in ops:\n",
    "        if is_arthemetic(op):\n",
    "            value = arthemetic(value, op)\n",
    "        elif is_insert(op):\n",
    "            value = insert(value, op)\n",
    "        elif op=='Reverse':\n",
    "            value = reverse(value)\n",
    "        if verbose>0:\n",
    "            print(op, ',', value)\n",
    "    return value"
   ]
  },
  {
   "cell_type": "code",
   "execution_count": 146,
   "metadata": {},
   "outputs": [],
   "source": [
    "def main(init, moves, goal, avaliable_ops, verbose=0):\n",
    "    all_path = itertools.product(avaliable_ops, repeat=moves)\n",
    "    for ops in all_path:\n",
    "        value = init\n",
    "        if verbose>0:\n",
    "            print(ops)\n",
    "            print(value)\n",
    "        try:\n",
    "            result = find_value(value, ops, verbose)\n",
    "        except Exception:\n",
    "            print('Exception: ', ops)\n",
    "        if result==goal:\n",
    "            print(ops)"
   ]
  },
  {
   "cell_type": "code",
   "execution_count": 147,
   "metadata": {},
   "outputs": [
    {
     "name": "stdout",
     "output_type": "stream",
     "text": [
      "('+4', '*4', 'Reverse', '-3')\n"
     ]
    }
   ],
   "source": [
    "# 57\n",
    "main(0, 4, 58, ['+4','*4','-3','Reverse'])"
   ]
  },
  {
   "cell_type": "code",
   "execution_count": 148,
   "metadata": {},
   "outputs": [
    {
     "name": "stdout",
     "output_type": "stream",
     "text": [
      "('1', 'Reverse', '/4')\n"
     ]
    }
   ],
   "source": [
    "# 58\n",
    "main(6, 3, 4, ['1','/4','Reverse'])"
   ]
  },
  {
   "cell_type": "code",
   "execution_count": 150,
   "metadata": {},
   "outputs": [
    {
     "name": "stdout",
     "output_type": "stream",
     "text": [
      "('+9', '*5', 'Reverse')\n"
     ]
    }
   ],
   "source": [
    "# 58\n",
    "main(15, 3, 21, ['+9','*5','Reverse'])"
   ]
  },
  {
   "cell_type": "code",
   "execution_count": 149,
   "metadata": {},
   "outputs": [
    {
     "name": "stdout",
     "output_type": "stream",
     "text": [
      "1 , 61.0\n",
      "1 , 611.0\n",
      "1 , 6111.0\n"
     ]
    },
    {
     "data": {
      "text/plain": [
       "6111.0"
      ]
     },
     "execution_count": 149,
     "metadata": {},
     "output_type": "execute_result"
    }
   ],
   "source": [
    "find_value(6, ['1','1','1'], verbose=1)"
   ]
  },
  {
   "cell_type": "code",
   "execution_count": null,
   "metadata": {},
   "outputs": [],
   "source": []
  }
 ],
 "metadata": {
  "kernelspec": {
   "display_name": "Python 3",
   "language": "python",
   "name": "python3"
  },
  "language_info": {
   "codemirror_mode": {
    "name": "ipython",
    "version": 3
   },
   "file_extension": ".py",
   "mimetype": "text/x-python",
   "name": "python",
   "nbconvert_exporter": "python",
   "pygments_lexer": "ipython3",
   "version": "3.6.2"
  }
 },
 "nbformat": 4,
 "nbformat_minor": 2
}
